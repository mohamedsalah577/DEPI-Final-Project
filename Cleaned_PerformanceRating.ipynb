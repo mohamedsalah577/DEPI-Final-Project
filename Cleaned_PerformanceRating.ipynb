{
 "cells": [
  {
   "cell_type": "markdown",
   "metadata": {},
   "source": [
    "Import Necessary Libraries"
   ]
  },
  {
   "cell_type": "code",
   "execution_count": 31,
   "metadata": {},
   "outputs": [],
   "source": [
    "import pandas as pd"
   ]
  },
  {
   "cell_type": "markdown",
   "metadata": {},
   "source": [
    "Load the Data (Modify if needed)"
   ]
  },
  {
   "cell_type": "code",
   "execution_count": 9,
   "metadata": {},
   "outputs": [
    {
     "name": "stdout",
     "output_type": "stream",
     "text": [
      "Dataset Overview:\n",
      "<class 'pandas.core.frame.DataFrame'>\n",
      "RangeIndex: 6709 entries, 0 to 6708\n",
      "Data columns (total 11 columns):\n",
      " #   Column                           Non-Null Count  Dtype \n",
      "---  ------                           --------------  ----- \n",
      " 0   PerformanceID                    6709 non-null   object\n",
      " 1   EmployeeID                       6709 non-null   object\n",
      " 2   ReviewDate                       6709 non-null   object\n",
      " 3   EnvironmentSatisfaction          6709 non-null   int64 \n",
      " 4   JobSatisfaction                  6709 non-null   int64 \n",
      " 5   RelationshipSatisfaction         6709 non-null   int64 \n",
      " 6   TrainingOpportunitiesWithinYear  6709 non-null   int64 \n",
      " 7   TrainingOpportunitiesTaken       6709 non-null   int64 \n",
      " 8   WorkLifeBalance                  6709 non-null   int64 \n",
      " 9   SelfRating                       6709 non-null   int64 \n",
      " 10  ManagerRating                    6709 non-null   int64 \n",
      "dtypes: int64(8), object(3)\n",
      "memory usage: 576.7+ KB\n",
      "None\n",
      "  PerformanceID EmployeeID ReviewDate  EnvironmentSatisfaction  \\\n",
      "0          PR01  79F7-78EC   1/2/2013                        5   \n",
      "1          PR02  B61E-0F26   1/3/2013                        5   \n",
      "2          PR03  F5E3-48BB   1/3/2013                        3   \n",
      "3          PR04  0678-748A   1/4/2013                        5   \n",
      "4          PR05  541F-3E19   1/4/2013                        5   \n",
      "\n",
      "   JobSatisfaction  RelationshipSatisfaction  TrainingOpportunitiesWithinYear  \\\n",
      "0                4                         5                                1   \n",
      "1                4                         4                                1   \n",
      "2                4                         5                                3   \n",
      "3                3                         2                                2   \n",
      "4                2                         3                                1   \n",
      "\n",
      "   TrainingOpportunitiesTaken  WorkLifeBalance  SelfRating  ManagerRating  \n",
      "0                           0                4           4              4  \n",
      "1                           3                4           4              3  \n",
      "2                           2                3           5              4  \n",
      "3                           0                2           3              2  \n",
      "4                           0                4           4              3  \n",
      "<class 'pandas.core.frame.DataFrame'>\n",
      "RangeIndex: 6709 entries, 0 to 6708\n",
      "Data columns (total 11 columns):\n",
      " #   Column                           Non-Null Count  Dtype \n",
      "---  ------                           --------------  ----- \n",
      " 0   PerformanceID                    6709 non-null   object\n",
      " 1   EmployeeID                       6709 non-null   object\n",
      " 2   ReviewDate                       6709 non-null   object\n",
      " 3   EnvironmentSatisfaction          6709 non-null   int64 \n",
      " 4   JobSatisfaction                  6709 non-null   int64 \n",
      " 5   RelationshipSatisfaction         6709 non-null   int64 \n",
      " 6   TrainingOpportunitiesWithinYear  6709 non-null   int64 \n",
      " 7   TrainingOpportunitiesTaken       6709 non-null   int64 \n",
      " 8   WorkLifeBalance                  6709 non-null   int64 \n",
      " 9   SelfRating                       6709 non-null   int64 \n",
      " 10  ManagerRating                    6709 non-null   int64 \n",
      "dtypes: int64(8), object(3)\n",
      "memory usage: 576.7+ KB\n",
      "None\n"
     ]
    }
   ],
   "source": [
    "# Define file path\n",
    "file_path = r'C:\\Users\\Mohamed Salah\\Desktop\\Datasets\\HR\\PerformanceRating.csv'\n",
    "# Load the dataset from the uploaded file\n",
    "df = pd.read_csv(file_path, encoding=\"utf-8\")\n",
    "\n",
    "# Display basic information about the dataset\n",
    "print(\"Dataset Overview:\")\n",
    "print(df.info())  # Shows column names, data types, and missing values\n",
    "print(df.head())  # Shows the first few rows of the dataset\n",
    "\n",
    "# Display general information about the dataset, including:\n",
    "print(df.info())\n",
    "\n",
    "# Generate a summary report of dataset statistics\n",
    "def data_summary(df):\n",
    "    print(\"Dataset Summary Report\")\n",
    "    print(\"-\" * 40)\n",
    "    print(f\"Total Rows: {df.shape[0]}\")\n",
    "    print(f\"Total Columns: {df.shape[1]}\")\n",
    "    print(\"\\nMissing Values per Column:\\n\", df.isnull().sum())\n",
    "    print(\"\\nData Types:\\n\", df.dtypes)\n",
    "    print(\"-\" * 40)"
   ]
  },
  {
   "cell_type": "markdown",
   "metadata": {},
   "source": [
    "Handle Missing Values & Standardize Data Types"
   ]
  },
  {
   "cell_type": "code",
   "execution_count": 33,
   "metadata": {},
   "outputs": [
    {
     "name": "stdout",
     "output_type": "stream",
     "text": [
      "Missing values before handling:\n",
      "performanceid                         0\n",
      "employeeid                            0\n",
      "reviewdate                            0\n",
      "environmentsatisfaction               0\n",
      "jobsatisfaction                       0\n",
      "relationshipsatisfaction              0\n",
      "trainingopportunitieswithinyear       0\n",
      "trainingopportunitiestaken            0\n",
      "worklifebalance                       0\n",
      "selfrating                            0\n",
      "managerrating                         0\n",
      "performance_gap                       0\n",
      "review_year                           0\n",
      "rating_category                       0\n",
      "worklife_balance_category          1510\n",
      "training_flag                         0\n",
      "satisfaction_score                    0\n",
      "dtype: int64\n",
      "Checking for missing values\n",
      "Missing values found:\n",
      "performanceid                         0\n",
      "employeeid                            0\n",
      "reviewdate                            0\n",
      "environmentsatisfaction               0\n",
      "jobsatisfaction                       0\n",
      "relationshipsatisfaction              0\n",
      "trainingopportunitieswithinyear       0\n",
      "trainingopportunitiestaken            0\n",
      "worklifebalance                       0\n",
      "selfrating                            0\n",
      "managerrating                         0\n",
      "performance_gap                       0\n",
      "review_year                           0\n",
      "rating_category                       0\n",
      "worklife_balance_category          1510\n",
      "training_flag                         0\n",
      "satisfaction_score                    0\n",
      "dtype: int64\n"
     ]
    }
   ],
   "source": [
    "# Check for missing values before handling\n",
    "print(\"Missing values before handling:\")\n",
    "print(df.isnull().sum())\n",
    "\n",
    "# Check for missing values\n",
    "print(\"Checking for missing values\")\n",
    "missing_values = df.isnull().sum()\n",
    "\n",
    "# If there are no missing values, print a confirmation message\n",
    "if missing_values.sum() == 0:\n",
    "    print(\"No missing values found in the dataset.\")\n",
    "else:\n",
    "    print(\"Missing values found:\")\n",
    "    print(missing_values)\n",
    "\n",
    "df['reviewdate'] = pd.to_datetime(df['reviewdate'], errors='coerce')"
   ]
  },
  {
   "cell_type": "markdown",
   "metadata": {},
   "source": [
    "Remove Duplicate Rows & Standardize Column Names"
   ]
  },
  {
   "cell_type": "code",
   "execution_count": null,
   "metadata": {},
   "outputs": [
    {
     "name": "stdout",
     "output_type": "stream",
     "text": [
      "\n",
      "Checking for duplicate rows...\n",
      "No duplicate rows found.\n",
      "Duplicates removed & column names standardized.\n"
     ]
    }
   ],
   "source": [
    "# Remove duplicate rows\n",
    "# Check for duplicate rows\n",
    "print(\"\\nChecking for duplicate rows...\")\n",
    "duplicate_rows = df.duplicated().sum()\n",
    "\n",
    "if duplicate_rows == 0:\n",
    "    print(\"No duplicate rows found.\")\n",
    "else:\n",
    "    print(f\"Number of duplicate rows found: {duplicate_rows}\")\n",
    "    df.drop_duplicates(inplace=True)\n",
    "    print(\"Duplicate rows removed.\")\n",
    "\n",
    "# Remove duplicate rows if found\n",
    "df.drop_duplicates(inplace=True)\n",
    "\n",
    "# Standardize column names: lowercase, replace spaces with underscores\n",
    "df.columns = df.columns.str.strip().str.lower().str.replace(\" \", \"_\")\n",
    "\n",
    "print(\"Duplicates removed & column names standardized.\")"
   ]
  },
  {
   "cell_type": "markdown",
   "metadata": {},
   "source": [
    "Detecting and Removing Outliers Using the IQR Method"
   ]
  },
  {
   "cell_type": "code",
   "execution_count": 21,
   "metadata": {},
   "outputs": [
    {
     "name": "stdout",
     "output_type": "stream",
     "text": [
      "Outliers Removed Successfully!\n"
     ]
    }
   ],
   "source": [
    "# Select numerical columns\n",
    "numeric_cols = df.select_dtypes(include=['number'])\n",
    "\n",
    "# Compute IQR\n",
    "Q1 = numeric_cols.quantile(0.25)\n",
    "Q3 = numeric_cols.quantile(0.75)\n",
    "IQR = Q3 - Q1\n",
    "\n",
    "# Define outlier range\n",
    "lower_bound = Q1 - 1.5 * IQR\n",
    "upper_bound = Q3 + 1.5 * IQR\n",
    "\n",
    "# Remove outliers\n",
    "df = df[~((numeric_cols < lower_bound) | (numeric_cols > upper_bound)).any(axis=1)]\n",
    "\n",
    "print(\"Outliers Removed Successfully!\")\n"
   ]
  },
  {
   "cell_type": "markdown",
   "metadata": {},
   "source": [
    "Feature Engineering & Data Transformation"
   ]
  },
  {
   "cell_type": "code",
   "execution_count": 36,
   "metadata": {},
   "outputs": [
    {
     "name": "stdout",
     "output_type": "stream",
     "text": [
      "  performanceid employeeid reviewdate  environmentsatisfaction  \\\n",
      "0          PR01  79F7-78EC 2013-01-02                        5   \n",
      "1          PR02  B61E-0F26 2013-01-03                        5   \n",
      "2          PR03  F5E3-48BB 2013-01-03                        3   \n",
      "3          PR04  0678-748A 2013-01-04                        5   \n",
      "4          PR05  541F-3E19 2013-01-04                        5   \n",
      "\n",
      "   jobsatisfaction  relationshipsatisfaction  trainingopportunitieswithinyear  \\\n",
      "0                4                         5                                1   \n",
      "1                4                         4                                1   \n",
      "2                4                         5                                3   \n",
      "3                3                         2                                2   \n",
      "4                2                         3                                1   \n",
      "\n",
      "   trainingopportunitiestaken  worklifebalance  selfrating  managerrating  \\\n",
      "0                           0                4           4              4   \n",
      "1                           3                4           4              3   \n",
      "2                           2                3           5              4   \n",
      "3                           0                2           3              2   \n",
      "4                           0                4           4              3   \n",
      "\n",
      "   performance_gap  review_year rating_category worklife_balance_category  \\\n",
      "0                0         2013          Medium                      Good   \n",
      "1               -1         2013          Medium                      Good   \n",
      "2               -1         2013            High                   Average   \n",
      "3               -1         2013          Medium                      Poor   \n",
      "4               -1         2013          Medium                      Good   \n",
      "\n",
      "   training_flag  satisfaction_score  \n",
      "0              1                 4.5  \n",
      "1              1                 4.5  \n",
      "2              1                 3.5  \n",
      "3              1                 4.0  \n",
      "4              1                 3.5  \n",
      "<class 'pandas.core.frame.DataFrame'>\n",
      "RangeIndex: 6709 entries, 0 to 6708\n",
      "Data columns (total 17 columns):\n",
      " #   Column                           Non-Null Count  Dtype         \n",
      "---  ------                           --------------  -----         \n",
      " 0   performanceid                    6709 non-null   object        \n",
      " 1   employeeid                       6709 non-null   object        \n",
      " 2   reviewdate                       6709 non-null   datetime64[ns]\n",
      " 3   environmentsatisfaction          6709 non-null   int64         \n",
      " 4   jobsatisfaction                  6709 non-null   int64         \n",
      " 5   relationshipsatisfaction         6709 non-null   int64         \n",
      " 6   trainingopportunitieswithinyear  6709 non-null   int64         \n",
      " 7   trainingopportunitiestaken       6709 non-null   int64         \n",
      " 8   worklifebalance                  6709 non-null   int64         \n",
      " 9   selfrating                       6709 non-null   int64         \n",
      " 10  managerrating                    6709 non-null   int64         \n",
      " 11  performance_gap                  6709 non-null   int64         \n",
      " 12  review_year                      6709 non-null   int32         \n",
      " 13  rating_category                  6709 non-null   category      \n",
      " 14  worklife_balance_category        5199 non-null   category      \n",
      " 15  training_flag                    6709 non-null   int64         \n",
      " 16  satisfaction_score               6709 non-null   float64       \n",
      "dtypes: category(2), datetime64[ns](1), float64(1), int32(1), int64(10), object(2)\n",
      "memory usage: 773.5+ KB\n",
      "None\n"
     ]
    }
   ],
   "source": [
    "# Extract the Year from 'reviewdate'\n",
    "df['review_year'] = df['reviewdate'].dt.year\n",
    "\n",
    "# Calculate Performance Gap (Difference Between Manager & Self Ratings)\n",
    "df['performance_gap'] = df['managerrating'] - df['selfrating']\n",
    "\n",
    "# Categorize Self Rating into \"Low\", \"Medium\", and \"High\"\n",
    "df['rating_category'] = pd.cut(df['selfrating'], \n",
    "                               bins=[0, 2, 4, 5], \n",
    "                               labels=['Low', 'Medium', 'High'])\n",
    "\n",
    "# Categorize Work-Life Balance Scores\n",
    "df['worklife_balance_category'] = pd.cut(df['worklifebalance'], \n",
    "                                         bins=[0, 2, 3, 4], \n",
    "                                         labels=['Poor', 'Average', 'Good'])\n",
    "\n",
    "# Create a Flag for Employees Who Had Training in the Year\n",
    "df['training_flag'] = df['trainingopportunitieswithinyear'].apply(lambda x: 1 if x > 0 else 0)\n",
    "\n",
    "# Create a \"Satisfaction Score\" (Average of Job & Environment Satisfaction)\n",
    "df['satisfaction_score'] = df[['jobsatisfaction', 'environmentsatisfaction']].mean(axis=1)\n",
    "\n",
    "# Convert Employee & Performance IDs to String (If Needed)\n",
    "df['employeeid'] = df['employeeid'].astype(str)\n",
    "df['performanceid'] = df['performanceid'].astype(str)\n",
    "\n",
    "# Handle Missing Values (Optional)\n",
    "df.fillna({'performance_gap': 0, 'review_year': df['review_year'].median()}, inplace=True)\n",
    "\n",
    "# Display Final Data Preview\n",
    "print(df.head())\n",
    "print(df.info())  # Ensure transformations are correct"
   ]
  },
  {
   "cell_type": "markdown",
   "metadata": {},
   "source": [
    "Saving the Cleaned Dataset"
   ]
  },
  {
   "cell_type": "code",
   "execution_count": 35,
   "metadata": {},
   "outputs": [],
   "source": [
    "# Save the cleaned dataset to the same folder with a new name\n",
    "cleaned_file_path = r'C:\\Users\\Mohamed Salah\\Desktop\\Datasets\\HR\\Cleaned_PerformanceRating.csv'\n",
    "df.to_csv(cleaned_file_path, index=False)\n",
    "df.to_csv('Cleaned_PerformanceRating.csv', index=False)"
   ]
  }
 ],
 "metadata": {
  "kernelspec": {
   "display_name": "Python 3",
   "language": "python",
   "name": "python3"
  },
  "language_info": {
   "codemirror_mode": {
    "name": "ipython",
    "version": 3
   },
   "file_extension": ".py",
   "mimetype": "text/x-python",
   "name": "python",
   "nbconvert_exporter": "python",
   "pygments_lexer": "ipython3",
   "version": "3.13.2"
  }
 },
 "nbformat": 4,
 "nbformat_minor": 2
}
