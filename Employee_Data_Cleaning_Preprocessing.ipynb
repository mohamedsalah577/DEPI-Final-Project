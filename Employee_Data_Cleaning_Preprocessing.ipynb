{
 "cells": [
  {
   "cell_type": "markdown",
   "metadata": {},
   "source": [
    "Import Required Libraries & Load the Dataset"
   ]
  },
  {
   "cell_type": "code",
   "execution_count": null,
   "metadata": {},
   "outputs": [
    {
     "name": "stdout",
     "output_type": "stream",
     "text": [
      "Dataset Overview:\n",
      "<class 'pandas.core.frame.DataFrame'>\n",
      "RangeIndex: 1470 entries, 0 to 1469\n",
      "Data columns (total 23 columns):\n",
      " #   Column                   Non-Null Count  Dtype \n",
      "---  ------                   --------------  ----- \n",
      " 0   EmployeeID               1470 non-null   object\n",
      " 1   FirstName                1470 non-null   object\n",
      " 2   LastName                 1470 non-null   object\n",
      " 3   Gender                   1470 non-null   object\n",
      " 4   Age                      1470 non-null   int64 \n",
      " 5   BusinessTravel           1470 non-null   object\n",
      " 6   Department               1470 non-null   object\n",
      " 7   DistanceFromHome (KM)    1470 non-null   int64 \n",
      " 8   State                    1470 non-null   object\n",
      " 9   Ethnicity                1470 non-null   object\n",
      " 10  Education                1470 non-null   int64 \n",
      " 11  EducationField           1470 non-null   object\n",
      " 12  JobRole                  1470 non-null   object\n",
      " 13  MaritalStatus            1470 non-null   object\n",
      " 14  Salary                   1470 non-null   int64 \n",
      " 15  StockOptionLevel         1470 non-null   int64 \n",
      " 16  OverTime                 1470 non-null   object\n",
      " 17  HireDate                 1470 non-null   object\n",
      " 18  Attrition                1470 non-null   object\n",
      " 19  YearsAtCompany           1470 non-null   int64 \n",
      " 20  YearsInMostRecentRole    1470 non-null   int64 \n",
      " 21  YearsSinceLastPromotion  1470 non-null   int64 \n",
      " 22  YearsWithCurrManager     1470 non-null   int64 \n",
      "dtypes: int64(9), object(14)\n",
      "memory usage: 264.3+ KB\n",
      "None\n",
      "  EmployeeID   FirstName LastName      Gender  Age BusinessTravel  \\\n",
      "0  3012-1A41    Leonelle    Simco      Female   30    Some Travel   \n",
      "1  CBCB-9C9D     Leonerd    Aland        Male   38    Some Travel   \n",
      "2  95D7-1CE9       Ahmed    Sykes        Male   43    Some Travel   \n",
      "3  47A0-559B  Ermentrude   Berrie  Non-Binary   39    Some Travel   \n",
      "4  42CC-040A       Stace   Savege      Female   29    Some Travel   \n",
      "\n",
      "        Department  DistanceFromHome (KM) State                Ethnicity  ...  \\\n",
      "0            Sales                     27    IL                    White  ...   \n",
      "1            Sales                     23    CA                    White  ...   \n",
      "2  Human Resources                     29    CA  Asian or Asian American  ...   \n",
      "3       Technology                     12    IL                    White  ...   \n",
      "4  Human Resources                     29    CA                    White  ...   \n",
      "\n",
      "   MaritalStatus  Salary StockOptionLevel OverTime    HireDate  Attrition  \\\n",
      "0       Divorced  102059                1       No  2012-01-03         No   \n",
      "1         Single  157718                0      Yes  2012-01-04         No   \n",
      "2        Married  309964                1       No  2012-01-04         No   \n",
      "3        Married  293132                0       No  2012-01-05         No   \n",
      "4         Single   49606                0       No  2012-01-05        Yes   \n",
      "\n",
      "  YearsAtCompany YearsInMostRecentRole YearsSinceLastPromotion  \\\n",
      "0             10                     4                       9   \n",
      "1             10                     6                      10   \n",
      "2             10                     6                      10   \n",
      "3             10                    10                      10   \n",
      "4              6                     1                       1   \n",
      "\n",
      "   YearsWithCurrManager  \n",
      "0                     7  \n",
      "1                     0  \n",
      "2                     8  \n",
      "3                     0  \n",
      "4                     6  \n",
      "\n",
      "[5 rows x 23 columns]\n",
      "<class 'pandas.core.frame.DataFrame'>\n",
      "RangeIndex: 1470 entries, 0 to 1469\n",
      "Data columns (total 23 columns):\n",
      " #   Column                   Non-Null Count  Dtype \n",
      "---  ------                   --------------  ----- \n",
      " 0   EmployeeID               1470 non-null   object\n",
      " 1   FirstName                1470 non-null   object\n",
      " 2   LastName                 1470 non-null   object\n",
      " 3   Gender                   1470 non-null   object\n",
      " 4   Age                      1470 non-null   int64 \n",
      " 5   BusinessTravel           1470 non-null   object\n",
      " 6   Department               1470 non-null   object\n",
      " 7   DistanceFromHome (KM)    1470 non-null   int64 \n",
      " 8   State                    1470 non-null   object\n",
      " 9   Ethnicity                1470 non-null   object\n",
      " 10  Education                1470 non-null   int64 \n",
      " 11  EducationField           1470 non-null   object\n",
      " 12  JobRole                  1470 non-null   object\n",
      " 13  MaritalStatus            1470 non-null   object\n",
      " 14  Salary                   1470 non-null   int64 \n",
      " 15  StockOptionLevel         1470 non-null   int64 \n",
      " 16  OverTime                 1470 non-null   object\n",
      " 17  HireDate                 1470 non-null   object\n",
      " 18  Attrition                1470 non-null   object\n",
      " 19  YearsAtCompany           1470 non-null   int64 \n",
      " 20  YearsInMostRecentRole    1470 non-null   int64 \n",
      " 21  YearsSinceLastPromotion  1470 non-null   int64 \n",
      " 22  YearsWithCurrManager     1470 non-null   int64 \n",
      "dtypes: int64(9), object(14)\n",
      "memory usage: 264.3+ KB\n",
      "None\n"
     ]
    }
   ],
   "source": [
    "import pandas as pd\n",
    "import numpy as np\n",
    "from tabulate import tabulate\n",
    "\n",
    "# Define file path\n",
    "file_path = r\"C:\\Users\\Mohamed Salah\\Desktop\\Final_Project\\Employee.csv\"\n",
    "\n",
    "# Load dataset with correct encoding\n",
    "df = pd.read_csv(file_path, encoding=\"utf-8\")\n",
    "\n",
    "# Display basic information about the dataset\n",
    "print(\"Dataset Overview:\")\n",
    "print(df.info())  # Shows column names, data types, and missing values\n",
    "print(df.head())  # Shows the first few rows of the dataset\n",
    "\n",
    "# Display general information about the dataset, including:\n",
    "print(df.info())\n",
    "\n",
    "# Generate a summary report of dataset statistics\n",
    "def data_summary(df):\n",
    "    print(\"Dataset Summary Report\")\n",
    "    print(\"-\" * 40)\n",
    "    print(f\"Total Rows: {df.shape[0]}\")\n",
    "    print(f\"Total Columns: {df.shape[1]}\")\n",
    "    print(\"\\nMissing Values per Column:\\n\", df.isnull().sum())\n",
    "    print(\"\\nData Types:\\n\", df.dtypes)\n",
    "    print(\"-\" * 40)"
   ]
  },
  {
   "cell_type": "markdown",
   "metadata": {},
   "source": [
    "Handle Missing Values & Standardize Data Types"
   ]
  },
  {
   "cell_type": "code",
   "execution_count": 5,
   "metadata": {},
   "outputs": [
    {
     "name": "stdout",
     "output_type": "stream",
     "text": [
      "Missing values before handling:\n",
      "EmployeeID                 0\n",
      "FirstName                  0\n",
      "LastName                   0\n",
      "Gender                     0\n",
      "Age                        0\n",
      "BusinessTravel             0\n",
      "Department                 0\n",
      "DistanceFromHome (KM)      0\n",
      "State                      0\n",
      "Ethnicity                  0\n",
      "Education                  0\n",
      "EducationField             0\n",
      "JobRole                    0\n",
      "MaritalStatus              0\n",
      "Salary                     0\n",
      "StockOptionLevel           0\n",
      "OverTime                   0\n",
      "HireDate                   0\n",
      "Attrition                  0\n",
      "YearsAtCompany             0\n",
      "YearsInMostRecentRole      0\n",
      "YearsSinceLastPromotion    0\n",
      "YearsWithCurrManager       0\n",
      "dtype: int64\n",
      "Checking for missing values\n",
      "No missing values found in the dataset.\n"
     ]
    }
   ],
   "source": [
    "# Check for missing values before handling\n",
    "print(\"Missing values before handling:\")\n",
    "print(df.isnull().sum())\n",
    "\n",
    "# Check for missing values\n",
    "print(\"Checking for missing values\")\n",
    "missing_values = df.isnull().sum()\n",
    "\n",
    "# If there are no missing values, print a confirmation message\n",
    "if missing_values.sum() == 0:\n",
    "    print(\"No missing values found in the dataset.\")\n",
    "else:\n",
    "    print(\"Missing values found:\")\n",
    "    print(missing_values)"
   ]
  },
  {
   "cell_type": "markdown",
   "metadata": {},
   "source": [
    "Remove Duplicate Rows & Standardize Column Names"
   ]
  },
  {
   "cell_type": "code",
   "execution_count": null,
   "metadata": {},
   "outputs": [
    {
     "name": "stdout",
     "output_type": "stream",
     "text": [
      "\n",
      "Checking for duplicate rows...\n",
      "No duplicate rows found.\n",
      "✅ Duplicates removed & column names standardized.\n"
     ]
    }
   ],
   "source": [
    "# Remove duplicate rows\n",
    "# Check for duplicate rows\n",
    "print(\"\\nChecking for duplicate rows...\")\n",
    "duplicate_rows = df.duplicated().sum()\n",
    "\n",
    "if duplicate_rows == 0:\n",
    "    print(\"No duplicate rows found.\")\n",
    "else:\n",
    "    print(f\"Number of duplicate rows found: {duplicate_rows}\")\n",
    "    df.drop_duplicates(inplace=True)\n",
    "    print(\"Duplicate rows removed.\")\n",
    "\n",
    "# Remove duplicate rows if found\n",
    "df.drop_duplicates(inplace=True)\n",
    "\n",
    "# Standardize column names: lowercase, replace spaces with underscores\n",
    "df.columns = df.columns.str.strip().str.lower().str.replace(\" \", \"_\")\n",
    "\n",
    "print(\"Duplicates removed & column names standardized.\")"
   ]
  },
  {
   "cell_type": "markdown",
   "metadata": {},
   "source": [
    "Remove Outliers in Salary Column Using IQR Method"
   ]
  },
  {
   "cell_type": "code",
   "execution_count": 10,
   "metadata": {},
   "outputs": [
    {
     "name": "stdout",
     "output_type": "stream",
     "text": [
      "Salary outliers removed. Valid range: -104132.375 to 289768.625\n"
     ]
    }
   ],
   "source": [
    "# Remove outliers in Salary column using IQR method\n",
    "\n",
    "# Step 1 : Check if the 'salary' column exists in the DataFrame\n",
    "if 'salary' in df.columns:\n",
    "    \n",
    "    # Step 2: Calculate the first quartile (Q1) and third quartile (Q3) for the 'salary' column\n",
    "    Q1 = df['salary'].quantile(0.25)  # 25th percentile (lower quartile)\n",
    "    Q3 = df['salary'].quantile(0.75)  # 75th percentile (upper quartile)\n",
    "\n",
    "    # Step 3: Compute the Interquartile Range (IQR)\n",
    "    # IQR measures the middle 50% of the data and helps identify outliers\n",
    "    IQR = Q3 - Q1\n",
    "\n",
    "    # Step 4: Set the lower and upper boundaries for acceptable values\n",
    "    # Outliers are values outside these boundaries\n",
    "    lower_bound = Q1 - 1.5 * IQR  # Lower limit (Q1 - 1.5 * IQR)\n",
    "    upper_bound = Q3 + 1.5 * IQR  # Upper limit (Q3 + 1.5 * IQR)\n",
    "\n",
    "    # Step 5: Filter the DataFrame to keep only rows where 'salary' is within the boundaries\n",
    "    df = df[(df['salary'] >= lower_bound) & (df['salary'] <= upper_bound)]\n",
    "\n",
    "    # Step 6: Print the range for reference\n",
    "    print(f\"Salary outliers removed. Valid range: {lower_bound} to {upper_bound}\")"
   ]
  },
  {
   "cell_type": "code",
   "execution_count": 11,
   "metadata": {},
   "outputs": [],
   "source": [
    "# Save the cleaned dataset as a new file\n",
    "df.to_csv('Cleaned_Employee.csv', index=False)"
   ]
  }
 ],
 "metadata": {
  "kernelspec": {
   "display_name": "Python 3",
   "language": "python",
   "name": "python3"
  },
  "language_info": {
   "codemirror_mode": {
    "name": "ipython",
    "version": 3
   },
   "file_extension": ".py",
   "mimetype": "text/x-python",
   "name": "python",
   "nbconvert_exporter": "python",
   "pygments_lexer": "ipython3",
   "version": "3.13.2"
  }
 },
 "nbformat": 4,
 "nbformat_minor": 2
}
